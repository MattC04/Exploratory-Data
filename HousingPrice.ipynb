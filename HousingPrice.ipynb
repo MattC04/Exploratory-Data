{
 "cells": [
  {
   "cell_type": "markdown",
   "metadata": {},
   "source": [
    "Created on 9/03/23\n",
    "\n",
    "By Matthew Chuang\n",
    "\n",
    "Title: Exploratory Data Analysis of Housing Prices (KNN, Multi-linear Regression) "
   ]
  },
  {
   "cell_type": "markdown",
   "metadata": {},
   "source": [
    "Import important modules:"
   ]
  },
  {
   "cell_type": "code",
   "execution_count": 58,
   "metadata": {},
   "outputs": [],
   "source": [
    "import numpy as np\n",
    "import pandas as pd\n",
    "import matplotlib.pyplot as plt\n",
    "%matplotlib inline\n",
    "\n",
    "from sklearn.linear_model import LinearRegression\n",
    "from sklearn.neighbors import KNeighborsRegressor\n",
    "from sklearn.model_selection import train_test_split\n",
    "from sklearn.metrics import mean_squared_error\n",
    "from sklearn.preprocessing import StandardScaler"
   ]
  },
  {
   "cell_type": "markdown",
   "metadata": {},
   "source": [
    "Take a look at the data:"
   ]
  },
  {
   "cell_type": "code",
   "execution_count": 59,
   "metadata": {},
   "outputs": [
    {
     "name": "stdout",
     "output_type": "stream",
     "text": [
      "   longitude  latitude  housing_median_age  total_rooms  total_bedrooms  \\\n",
      "0    -122.23     37.88                41.0        880.0           129.0   \n",
      "1    -122.22     37.86                21.0       7099.0          1106.0   \n",
      "2    -122.24     37.85                52.0       1467.0           190.0   \n",
      "3    -122.25     37.85                52.0       1274.0           235.0   \n",
      "4    -122.25     37.85                52.0       1627.0           280.0   \n",
      "\n",
      "   population  households  median_income  median_house_value ocean_proximity  \n",
      "0       322.0       126.0         8.3252            452600.0        NEAR BAY  \n",
      "1      2401.0      1138.0         8.3014            358500.0        NEAR BAY  \n",
      "2       496.0       177.0         7.2574            352100.0        NEAR BAY  \n",
      "3       558.0       219.0         5.6431            341300.0        NEAR BAY  \n",
      "4       565.0       259.0         3.8462            342200.0        NEAR BAY   \n",
      "\n"
     ]
    },
    {
     "data": {
      "text/plain": [
       "<Axes: >"
      ]
     },
     "execution_count": 59,
     "metadata": {},
     "output_type": "execute_result"
    },
    {
     "data": {
      "image/png": "[encoded data removed]",
      "text/plain": [
       "<Figure size 640x480 with 1 Axes>"
      ]
     },
     "metadata": {},
     "output_type": "display_data"
    }
   ],
   "source": [
    "df = pd.read_csv('housing.csv')\n",
    "\n",
    "print(df.head(), '\\n')\n",
    "df.shape\n",
    "\n",
    "#statistics of each column: (this is to see what I can use as a predictor variable)\n",
    "df.describe()\n",
    "\n",
    "df['median_house_value'].hist()"
   ]
  },
  {
   "cell_type": "markdown",
   "metadata": {},
   "source": [
    "I performed KNN regression on this dataset of housing prices as a baseline model.\n",
    "This will give me an idea of the relationship between variables and be able to predict housing price based on several different types of regression. \n",
    "\n",
    "\n",
    "By skimming the Data, I observed that the column total_bedrooms had a lot of missing values.\n",
    "To solve this issue, I replaced the empty values with the mean, as to not skew the data.\n"
   ]
  },
  {
   "cell_type": "markdown",
   "metadata": {},
   "source": [
    "Cleaning the Data:\n"
   ]
  },
  {
   "cell_type": "code",
   "execution_count": 60,
   "metadata": {},
   "outputs": [],
   "source": [
    "df['total_bedrooms'].fillna(df['total_bedrooms'].mean(), inplace=True)"
   ]
  },
  {
   "cell_type": "markdown",
   "metadata": {},
   "source": [
    "\n",
    "To find the best predictor variable, I used correlation analysis. As for longitude and latitude I will be using a geographical visualization. \n",
    "\n",
    "Feature Selection:"
   ]
  },
  {
   "cell_type": "code",
   "execution_count": 61,
   "metadata": {},
   "outputs": [
    {
     "name": "stdout",
     "output_type": "stream",
     "text": [
      "median_house_value            1.000000\n",
      "median_income                 0.688075\n",
      "ocean_proximity_NEAR BAY      0.160284\n",
      "ocean_proximity_NEAR OCEAN    0.141862\n",
      "total_rooms                   0.134153\n",
      "housing_median_age            0.105623\n",
      "households                    0.065843\n",
      "total_bedrooms                0.049454\n",
      "ocean_proximity_ISLAND        0.023416\n",
      "population                   -0.024650\n",
      "longitude                    -0.045967\n",
      "latitude                     -0.144160\n",
      "ocean_proximity_INLAND       -0.484859\n",
      "Name: median_house_value, dtype: float64\n"
     ]
    }
   ],
   "source": [
    "#one hot encoding for categorical variables:\n",
    "df = pd.get_dummies(df, columns=['ocean_proximity'], drop_first = True)\n",
    "corr_func = df.corr()\n",
    "#set our response variable to ascending order\n",
    "predictor_correlation = corr_func['median_house_value'].sort_values(ascending = False)\n",
    "print(predictor_correlation)"
   ]
  },
  {
   "cell_type": "markdown",
   "metadata": {},
   "source": [
    "From these correlation coefficients, I can see that median_income is the closest ."
   ]
  },
  {
   "cell_type": "markdown",
   "metadata": {},
   "source": [
    "Because of the size of this data set, I will be using a train_test_split with a test size of 40% and a train size of 60%.\n",
    "To ensure reproducibility, we will be using a random_state."
   ]
  },
  {
   "cell_type": "code",
   "execution_count": 62,
   "metadata": {},
   "outputs": [],
   "source": [
    "#predictor (x) variable:\n",
    "x = df[['median_income']]\n",
    "\n",
    "#response (y) variable:\n",
    "y = df['median_house_value']\n",
    "\n",
    "x_train, x_test, y_train, y_test = train_test_split(x, y, test_size = 0.4, train_size = 0.6, random_state = 21)\n",
    "\n"
   ]
  },
  {
   "cell_type": "markdown",
   "metadata": {},
   "source": [
    "I will be performing KNN Regression. The first step is to choose a good value for K, which will represent the number of \"neighbors\" to consider when making a prediction. I will be using the MSE to see which K value is the best. The MSE serves as a way to measure the difference between predicted and actual values. "
   ]
  },
  {
   "cell_type": "code",
   "execution_count": 63,
   "metadata": {},
   "outputs": [
    {
     "data": {
      "image/png": "[encoded data removed]",
      "text/plain": [
       "<Figure size 640x480 with 1 Axes>"
      ]
     },
     "metadata": {},
     "output_type": "display_data"
    },
    {
     "name": "stdout",
     "output_type": "stream",
     "text": [
      "144\n"
     ]
    }
   ],
   "source": [
    "#testing a range of k values\n",
    "k_min = 1\n",
    "k_max = 144\n",
    "k_list = np.linspace(k_min, k_max, num = 144, dtype = int)\n",
    "\n",
    "k_dict = {}\n",
    "#loop through k values\n",
    "for k_value in k_list:\n",
    "    model = KNeighborsRegressor(n_neighbors=int(k_value))\n",
    "    #train model for k value:\n",
    "    model.fit(x_train, y_train)\n",
    "    y_predicted = model.predict(x_test)\n",
    "\n",
    "    #find each MSE value and store it into a dictionary\n",
    "    MSE = mean_squared_error(y_test, y_predicted)\n",
    "    k_dict[k_value] = MSE\n",
    "\n",
    "#Making sure there is a relationship between our K-values and MSE that corresponds to it\n",
    "plt.scatter(list(k_dict.keys()),list(k_dict.values()))\n",
    "plt.xlabel('K values')\n",
    "plt.ylabel('MSE values')\n",
    "plt.title('k value and MSE')\n",
    "plt.show()\n",
    "\n",
    "#The lower the MSE value, the better the k value in this case.\n",
    "#Given MSE's formula that incorporates the difference between the true and predicted value for the observation, \n",
    "#a lower MSE means that the predictions are closer to the actual values. \n",
    "top_k_value = min(k_dict, key=k_dict.get)\n",
    "#each value in the k_dict corresponds to a given MSE value (Kind of like hash_tables in c++)\n",
    "print(top_k_value)"
   ]
  },
  {
   "cell_type": "markdown",
   "metadata": {},
   "source": [
    "From this graph and for loop, it is clear that the highest K-value will hopefully give us the most accurate results. "
   ]
  },
  {
   "cell_type": "markdown",
   "metadata": {},
   "source": [
    "I implemented the KNN Algorithm by hand, getting values for the actual response variable and the predicted response variable."
   ]
  },
  {
   "cell_type": "code",
   "execution_count": 71,
   "metadata": {},
   "outputs": [
    {
     "data": {
      "text/html": [
       "<div>\n",
       "<style scoped>\n",
       "    .dataframe tbody tr th:only-of-type {\n",
       "        vertical-align: middle;\n",
       "    }\n",
       "\n",
       "    .dataframe tbody tr th {\n",
       "        vertical-align: top;\n",
       "    }\n",
       "\n",
       "    .dataframe thead th {\n",
       "        text-align: right;\n",
       "    }\n",
       "</style>\n",
       "<table border=\"1\" class=\"dataframe\">\n",
       "  <thead>\n",
       "    <tr style=\"text-align: right;\">\n",
       "      <th></th>\n",
       "      <th>y_true</th>\n",
       "      <th>y_pred</th>\n",
       "    </tr>\n",
       "  </thead>\n",
       "  <tbody>\n",
       "    <tr>\n",
       "      <th>2521</th>\n",
       "      <td>14999.0</td>\n",
       "      <td>105667.368056</td>\n",
       "    </tr>\n",
       "    <tr>\n",
       "      <th>5887</th>\n",
       "      <td>17500.0</td>\n",
       "      <td>135156.256944</td>\n",
       "    </tr>\n",
       "    <tr>\n",
       "      <th>1825</th>\n",
       "      <td>22500.0</td>\n",
       "      <td>152940.277778</td>\n",
       "    </tr>\n",
       "    <tr>\n",
       "      <th>13889</th>\n",
       "      <td>22500.0</td>\n",
       "      <td>161240.986111</td>\n",
       "    </tr>\n",
       "    <tr>\n",
       "      <th>2779</th>\n",
       "      <td>25000.0</td>\n",
       "      <td>121608.340278</td>\n",
       "    </tr>\n",
       "  </tbody>\n",
       "</table>\n",
       "</div>"
      ],
      "text/plain": [
       "        y_true         y_pred\n",
       "2521   14999.0  105667.368056\n",
       "5887   17500.0  135156.256944\n",
       "1825   22500.0  152940.277778\n",
       "13889  22500.0  161240.986111\n",
       "2779   25000.0  121608.340278"
      ]
     },
     "execution_count": 71,
     "metadata": {},
     "output_type": "execute_result"
    }
   ],
   "source": [
    "#define a function to find nearest neighbors\n",
    "\n",
    "y_pred = []\n",
    "\n",
    "\n",
    "def knn (x_train, x_test, y_train, y_test, k):\n",
    "    for i, xi in enumerate(x_test.values):\n",
    "        diff = pd.DataFrame((x_train.values - xi)**2, index = x_train.index) #from knn equation\n",
    "        diff.columns = ['filled']\n",
    "\n",
    "        #find the nearestneighbor\n",
    "        nearestneighbor = diff.sort_values(by = 'filled').iloc[:k]\n",
    "        Kmean = y_train[nearestneighbor.index].mean()\n",
    "        y_pred.append(Kmean)\n",
    "    actpred = pd.DataFrame({'y_true': y_test, 'y_pred': y_pred})\n",
    "    #sort by ascending order\n",
    "    actpredsorted = actpred.sort_values(by=['y_true', 'y_pred'], ascending=[True, True], inplace=True)\n",
    "    return actpred\n",
    "\n",
    "k = 144\n",
    "best = knn(x_train, x_test, y_train, y_test, k)\n",
    "best.head()\n",
    "\n",
    "#the values we get from this function allow us to compare the actual values to the predicted values\n"
   ]
  }
 ],
 "metadata": {
  "kernelspec": {
   "display_name": "Python 3",
   "language": "python",
   "name": "python3"
  },
  "language_info": {
   "codemirror_mode": {
    "name": "ipython",
    "version": 3
   },
   "file_extension": ".py",
   "mimetype": "text/x-python",
   "name": "python",
   "nbconvert_exporter": "python",
   "pygments_lexer": "ipython3",
   "version": "3.11.5"
  },
  "orig_nbformat": 4
 },
 "nbformat": 4,
 "nbformat_minor": 2
}
